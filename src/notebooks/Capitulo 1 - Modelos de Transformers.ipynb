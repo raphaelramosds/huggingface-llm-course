{
 "cells": [
  {
   "cell_type": "markdown",
   "id": "aec4713e",
   "metadata": {},
   "source": [
    "# Capitulo 1 - Modelos de Transformers"
   ]
  },
  {
   "cell_type": "markdown",
   "id": "50819774",
   "metadata": {},
   "source": [
    "## Transformers, o que eles podem fazer?"
   ]
  },
  {
   "cell_type": "markdown",
   "id": "c1ee575c",
   "metadata": {},
   "source": [
    "### Trabalhando com pipelines\n",
    "\n",
    "O objeto mais básico da library Transformers é a função `pipeline()`. Ela instancia o modelo desejado (no exemplo abaixo, usamos o modelo de de análise de sentimento) e aplica os pré-processamentos e pós-processamentos cabíveis a ele"
   ]
  },
  {
   "cell_type": "code",
   "execution_count": 4,
   "id": "f45ccf13",
   "metadata": {},
   "outputs": [
    {
     "name": "stderr",
     "output_type": "stream",
     "text": [
      "No model was supplied, defaulted to distilbert/distilbert-base-uncased-finetuned-sst-2-english and revision 714eb0f (https://huggingface.co/distilbert/distilbert-base-uncased-finetuned-sst-2-english).\n",
      "Using a pipeline without specifying a model name and revision in production is not recommended.\n",
      "Device set to use cpu\n"
     ]
    },
    {
     "data": {
      "text/plain": [
       "[{'label': 'POSITIVE', 'score': 0.9598049521446228}]"
      ]
     },
     "execution_count": 4,
     "metadata": {},
     "output_type": "execute_result"
    }
   ],
   "source": [
    "from transformers import pipeline\n",
    "\n",
    "classifier = pipeline(\"sentiment-analysis\")\n",
    "classifier(\"I've been waiting for a HuggingFace course my whole life.\")"
   ]
  },
  {
   "cell_type": "markdown",
   "id": "4ba86e0e",
   "metadata": {},
   "source": [
    "Podemos até mesmo processar múltiplias sentenças!"
   ]
  },
  {
   "cell_type": "code",
   "execution_count": 5,
   "id": "6653aee0",
   "metadata": {},
   "outputs": [
    {
     "data": {
      "text/plain": [
       "[{'label': 'POSITIVE', 'score': 0.9598049521446228},\n",
       " {'label': 'NEGATIVE', 'score': 0.9994558691978455}]"
      ]
     },
     "execution_count": 5,
     "metadata": {},
     "output_type": "execute_result"
    }
   ],
   "source": [
    "classifier(\n",
    "    [\n",
    "        \"I've been waiting for a HuggingFace course my whole life.\", \n",
    "        \"I hate this so much!\"\n",
    "    ]\n",
    ")"
   ]
  },
  {
   "cell_type": "markdown",
   "id": "e3db22cd",
   "metadata": {},
   "source": [
    "Por padrão, esse pipeline seleciona um modelo pré-treinado que foi ajustado (*fine-tuned*) para análise de sentimentos em Inglês. Ao instanciar o objeto `classifier`, esse modelo é baixado e mantido localmente (*cached model*), evitando que nas próximas chamadas esse *download* seja feito novamente.\n",
    "\n",
    "Quando enviamos sentenças para a pipeline, estão envolvidos três passos principais\n",
    "\n",
    "1. O texto é pré-processado em um formato que o modelo possa entender\n",
    "2. As entradas pré-processadas são enviados ao modelo\n",
    "3. As predições do modelo são pós-processadas, para que você possa interpretá-las"
   ]
  },
  {
   "cell_type": "markdown",
   "id": "2d8d6ac4",
   "metadata": {},
   "source": [
    "## Pipelines disponíveis para diferentes modalidades\n",
    "\n",
    "A função `pipeline()` dar suporte a outras modalidades além de texto, bem como imagem, áudio e combinações delas (*multimodal*).\n",
    "\n",
    "> A lista completa de quais delas podem ser exploradas se encontra em [🤗 Transformers documentation](https://huggingface.co/docs/hub/en/models-tasks)\n",
    "\n",
    "De forma geral, abaixo estão os modelos agrupados por modalidade, que podem ser passados como parâmetro para pipeline\n",
    "\n",
    "Pipelines de texto\n",
    "- `text-generation`: gerar texto de um prompt\n",
    "- `text-classification`: classificar o text em categorias pré-definidas\n",
    "- `summarization`: criar uma versão resumida de um texto, preservando informações importantes\n",
    "- `translation`: traduzir texto de um idioma para o outro\n",
    "- `zero-shot-classification`: classificar o texto sem treinamento prévio em rótulos específicos\n",
    "- `featurue-extration`: extrair representação vetorial de texto"
   ]
  }
 ],
 "metadata": {
  "kernelspec": {
   "display_name": "huggingface-llm-course-zI0DbtNH-py3.12",
   "language": "python",
   "name": "python3"
  },
  "language_info": {
   "codemirror_mode": {
    "name": "ipython",
    "version": 3
   },
   "file_extension": ".py",
   "mimetype": "text/x-python",
   "name": "python",
   "nbconvert_exporter": "python",
   "pygments_lexer": "ipython3",
   "version": "3.12.3"
  }
 },
 "nbformat": 4,
 "nbformat_minor": 5
}
