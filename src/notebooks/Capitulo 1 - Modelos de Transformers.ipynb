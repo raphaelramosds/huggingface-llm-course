{
 "cells": [
  {
   "cell_type": "markdown",
   "id": "aec4713e",
   "metadata": {},
   "source": [
    "# Capitulo 1 - Modelos de Transformers\n",
    "\n",
    "## Transformers, o que eles podem fazer?\n",
    "\n",
    "### Trabalhando com pipelines\n",
    "\n",
    "O objeto mais básico da library Transformers é a função `pipeline()`. Ela instancia o modelo desejado (no exemplo abaixo, usamos o modelode de análise de sentimento) e aplica os pré-processamentos e pós-processamentos cabíveis a ele"
   ]
  },
  {
   "cell_type": "code",
   "execution_count": 1,
   "id": "f45ccf13",
   "metadata": {},
   "outputs": [
    {
     "name": "stderr",
     "output_type": "stream",
     "text": [
      "/home/rapha/.cache/pypoetry/virtualenvs/huggingface-llm-course-zI0DbtNH-py3.12/lib/python3.12/site-packages/tqdm/auto.py:21: TqdmWarning: IProgress not found. Please update jupyter and ipywidgets. See https://ipywidgets.readthedocs.io/en/stable/user_install.html\n",
      "  from .autonotebook import tqdm as notebook_tqdm\n",
      "No model was supplied, defaulted to distilbert/distilbert-base-uncased-finetuned-sst-2-english and revision 714eb0f (https://huggingface.co/distilbert/distilbert-base-uncased-finetuned-sst-2-english).\n",
      "Using a pipeline without specifying a model name and revision in production is not recommended.\n",
      "Device set to use cpu\n"
     ]
    },
    {
     "data": {
      "text/plain": [
       "[{'label': 'POSITIVE', 'score': 0.9598049521446228}]"
      ]
     },
     "execution_count": 1,
     "metadata": {},
     "output_type": "execute_result"
    }
   ],
   "source": [
    "from transformers import pipeline\n",
    "\n",
    "classifier = pipeline(\"sentiment-analysis\")\n",
    "classifier(\"I've been waiting for a HuggingFace course my whole life.\")"
   ]
  }
 ],
 "metadata": {
  "kernelspec": {
   "display_name": "huggingface-llm-course-zI0DbtNH-py3.12",
   "language": "python",
   "name": "python3"
  },
  "language_info": {
   "codemirror_mode": {
    "name": "ipython",
    "version": 3
   },
   "file_extension": ".py",
   "mimetype": "text/x-python",
   "name": "python",
   "nbconvert_exporter": "python",
   "pygments_lexer": "ipython3",
   "version": "3.12.3"
  }
 },
 "nbformat": 4,
 "nbformat_minor": 5
}
