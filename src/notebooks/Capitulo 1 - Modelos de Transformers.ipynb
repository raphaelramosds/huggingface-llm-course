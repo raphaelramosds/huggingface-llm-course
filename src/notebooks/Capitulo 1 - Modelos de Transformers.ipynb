{
 "cells": [
  {
   "cell_type": "markdown",
   "id": "aec4713e",
   "metadata": {},
   "source": [
    "# Capitulo 1 - Modelos de Transformers\n",
    "\n",
    "*Esse notebook contém anotações e traduções de algumas seções do seguinte capítulo* [🤗 LLM Course - Chapter 1 - Transfomer Models](https://huggingface.co/learn/llm-course/chapter1/) "
   ]
  },
  {
   "cell_type": "markdown",
   "id": "50819774",
   "metadata": {},
   "source": [
    "## Transformers, o que eles podem fazer?"
   ]
  },
  {
   "cell_type": "markdown",
   "id": "c1ee575c",
   "metadata": {},
   "source": [
    "### Trabalhando com pipelines\n",
    "\n",
    "O objeto mais básico da library Transformers é a função `pipeline()`. Ela instancia o modelo desejado (no exemplo abaixo, usamos o modelo de de análise de sentimento) e aplica os pré-processamentos e pós-processamentos cabíveis a ele"
   ]
  },
  {
   "cell_type": "code",
   "execution_count": 13,
   "id": "f45ccf13",
   "metadata": {},
   "outputs": [
    {
     "name": "stderr",
     "output_type": "stream",
     "text": [
      "No model was supplied, defaulted to distilbert/distilbert-base-uncased-finetuned-sst-2-english and revision 714eb0f (https://huggingface.co/distilbert/distilbert-base-uncased-finetuned-sst-2-english).\n",
      "Using a pipeline without specifying a model name and revision in production is not recommended.\n",
      "Device set to use cpu\n"
     ]
    },
    {
     "data": {
      "text/plain": [
       "[{'label': 'POSITIVE', 'score': 0.9598049521446228}]"
      ]
     },
     "execution_count": 13,
     "metadata": {},
     "output_type": "execute_result"
    }
   ],
   "source": [
    "from transformers import pipeline\n",
    "\n",
    "classifier = pipeline(\"sentiment-analysis\")\n",
    "classifier(\"I've been waiting for a HuggingFace course my whole life.\")"
   ]
  },
  {
   "cell_type": "markdown",
   "id": "4ba86e0e",
   "metadata": {},
   "source": [
    "Podemos até mesmo processar múltiplias sentenças!"
   ]
  },
  {
   "cell_type": "code",
   "execution_count": 14,
   "id": "6653aee0",
   "metadata": {},
   "outputs": [
    {
     "data": {
      "text/plain": [
       "[{'label': 'POSITIVE', 'score': 0.9598049521446228},\n",
       " {'label': 'NEGATIVE', 'score': 0.9994558691978455}]"
      ]
     },
     "execution_count": 14,
     "metadata": {},
     "output_type": "execute_result"
    }
   ],
   "source": [
    "classifier(\n",
    "    [\n",
    "        \"I've been waiting for a HuggingFace course my whole life.\", \n",
    "        \"I hate this so much!\"\n",
    "    ]\n",
    ")"
   ]
  },
  {
   "cell_type": "markdown",
   "id": "e3db22cd",
   "metadata": {},
   "source": [
    "Por padrão, esse pipeline seleciona um modelo pré-treinado que foi ajustado (*fine-tuned*) para análise de sentimentos em Inglês. Ao instanciar o objeto `classifier`, esse modelo é baixado e mantido localmente (*cached model*), evitando que nas próximas chamadas esse *download* seja feito novamente.\n",
    "\n",
    "Quando enviamos sentenças para a pipeline, estão envolvidos três passos principais\n",
    "\n",
    "1. O texto é pré-processado em um formato que o modelo possa entender\n",
    "2. As entradas pré-processadas são enviados ao modelo\n",
    "3. As predições do modelo são pós-processadas, para que você possa interpretá-las"
   ]
  },
  {
   "cell_type": "markdown",
   "id": "2d8d6ac4",
   "metadata": {},
   "source": [
    "### Pipelines disponíveis para diferentes modalidades\n",
    "\n",
    "A função `pipeline()` dar suporte a outras modalidades além de texto, bem como imagem, áudio e combinações delas (*multimodal*).\n",
    "\n",
    "> A lista completa de quais delas podem ser exploradas se encontra em [🤗 Transformers documentation](https://huggingface.co/docs/hub/en/models-tasks)\n",
    "\n",
    "De forma geral, abaixo estão os modelos agrupados por modalidade, que podem ser passados como parâmetro para pipeline\n",
    "\n",
    "Pipelines de texto\n",
    "- `text-generation`: gerar texto de um prompt\n",
    "- `text-classification`: classificar o text em categorias pré-definidas\n",
    "- `summarization`: criar uma versão resumida de um texto, preservando informações importantes\n",
    "- `translation`: traduzir texto de um idioma para o outro\n",
    "- `zero-shot-classification`: classificar o texto sem treinamento prévio em rótulos específicos\n",
    "- `featurue-extration`: extrair representação vetorial de texto\n",
    "\n",
    "Pipelines de imagem\n",
    "- `image-to-text`: gerar descrição textual de imagens\n",
    "- `image-classification`: identificar objetos numa imagem\n",
    "- `object-detection`: localizar e identificar objetos em imagens\n",
    "\n",
    "Pipelines de áudio\n",
    "- `automatic-speech-recognition`: converter fala em texto\n",
    "- `audio-classification`: classificar áudio em categorias\n",
    "- `text-to-speech`: converter texto em áudio falado\n",
    "\n",
    "Pipelines multimodais\n",
    "- `image-text-to-text`: responder a uma imagem com base em um prompt de texto\n",
    "\n",
    "Vamos explorar alguns desses pipelines em mais detalhes!"
   ]
  },
  {
   "cell_type": "markdown",
   "id": "0baf7a47",
   "metadata": {},
   "source": [
    "### Classificação Zero-shot"
   ]
  },
  {
   "cell_type": "code",
   "execution_count": 15,
   "id": "71024bf6",
   "metadata": {},
   "outputs": [
    {
     "name": "stderr",
     "output_type": "stream",
     "text": [
      "No model was supplied, defaulted to facebook/bart-large-mnli and revision d7645e1 (https://huggingface.co/facebook/bart-large-mnli).\n",
      "Using a pipeline without specifying a model name and revision in production is not recommended.\n",
      "Device set to use cpu\n"
     ]
    },
    {
     "data": {
      "text/plain": [
       "{'sequence': 'This is a course about the Transformers library',\n",
       " 'labels': ['education', 'business', 'politics'],\n",
       " 'scores': [0.8445994257926941, 0.11197380721569061, 0.04342673346400261]}"
      ]
     },
     "execution_count": 15,
     "metadata": {},
     "output_type": "execute_result"
    }
   ],
   "source": [
    "classifier = pipeline(\"zero-shot-classification\")\n",
    "classifier(\n",
    "    \"This is a course about the Transformers library\",\n",
    "    candidate_labels=[\"education\", \"politics\", \"business\"],\n",
    ")"
   ]
  },
  {
   "cell_type": "markdown",
   "id": "63fd0fd7",
   "metadata": {},
   "source": [
    "### Geração de texto"
   ]
  },
  {
   "cell_type": "code",
   "execution_count": 16,
   "id": "0423e026",
   "metadata": {},
   "outputs": [
    {
     "name": "stderr",
     "output_type": "stream",
     "text": [
      "No model was supplied, defaulted to openai-community/gpt2 and revision 607a30d (https://huggingface.co/openai-community/gpt2).\n",
      "Using a pipeline without specifying a model name and revision in production is not recommended.\n",
      "Device set to use cpu\n",
      "Setting `pad_token_id` to `eos_token_id`:50256 for open-end generation.\n"
     ]
    },
    {
     "data": {
      "text/plain": [
       "[{'generated_text': \"In this course, we will teach you how to install and use a Raspberry Pi to build your own projects. We will also show you how to use a Raspberry Pi to create your own web apps.\\n\\nWe're going to install a Raspberry Pi to run these tutorials, but for now, we want to explain a few things. The first thing that you will need to do is to install the following dependencies.\\n\\nRaspbian - Required\\n\\nsudo apt-get install libgcc-dev libreoffice-dev\\n\\nsudo apt-get install libelf-dev libboost-0.4-dev\\n\\nsudo apt-get install libboost-0.7-dev\\n\\nsudo apt-get install libssl-dev libgmp-dev libevent-dev\\n\\nYou'll need a file called libpcap.so. It's located here.\\n\\nWe'll also install a few packages from the official repository.\\n\\nInstall\\n\\npkg install pcap\\n\\nsudo apt-get install pcap-dev libmp4-dev libgmp2-dev\\n\\nsudo apt-get install libgmp2-dev libgcrypt-dev libssl-dev\\n\\nInstall\\n\\npkg install pcap-dev libcurl3-dev\"}]"
      ]
     },
     "execution_count": 16,
     "metadata": {},
     "output_type": "execute_result"
    }
   ],
   "source": [
    "generator = pipeline(\"text-generation\")\n",
    "generator(\"In this course, we will teach you how to\")"
   ]
  },
  {
   "cell_type": "markdown",
   "id": "68d83ce0",
   "metadata": {},
   "source": [
    "### Usando qualquer modelo do Hub em um pipeline"
   ]
  },
  {
   "cell_type": "code",
   "execution_count": 17,
   "id": "6d694d0b",
   "metadata": {},
   "outputs": [
    {
     "name": "stderr",
     "output_type": "stream",
     "text": [
      "Device set to use cpu\n",
      "Truncation was not explicitly activated but `max_length` is provided a specific value, please use `truncation=True` to explicitly truncate examples to max length. Defaulting to 'longest_first' truncation strategy. If you encode pairs of sequences (GLUE-style) with the tokenizer you can select this strategy more precisely by providing a specific strategy to `truncation`.\n",
      "Setting `pad_token_id` to `eos_token_id`:0 for open-end generation.\n",
      "Both `max_new_tokens` (=256) and `max_length`(=30) seem to have been set. `max_new_tokens` will take precedence. Please refer to the documentation for more information. (https://huggingface.co/docs/transformers/main/en/main_classes/text_generation)\n"
     ]
    },
    {
     "data": {
      "text/plain": [
       "[{'generated_text': \"In this course, we will teach you how to make a better quality home theater system. We will cover not only the basics that you need to know to build a good system, but also some of the finer points that can make a difference.\\n\\nWith some common sense, you should be able to take a few minutes out of your day to build a system that will work for you. If you don't have the time to learn on your own, you can always hire a professional to do it for you.\\n\\nWhat You Will Learn\\n\\nWe will cover everything you need to know to build a good home theater system. We will cover everything from building the components to the installation.\\n\\nWhat You Will Get\\n\\nThis course will teach you how to build a home theater system. We will give you step-by-step instructions on how to build a home theater system. We will teach you how to choose the right components for your system. We will explain how to select the right speakers and speakers for your system.\\n\\nWe will teach you how to select the right amplifiers and speakers. We will tell you how to select the right speakers for your system.\\n\\nWe will teach you how to select the right speakers for your system. We will explain how to select the right speakers for your system\"},\n",
       " {'generated_text': \"In this course, we will teach you how to become a master of the modern dance form. We will study several different techniques and styles, including ballet, modern, and jazz dance. Our goal is to help you develop your own unique style and express yourself through dance.\\n\\nIn addition to learning various techniques, we will also focus on developing your physical and mental health as a dancer. You will learn how to take care of your body by eating healthy foods, getting enough exercise, and practicing relaxation techniques. We will also teach you how to manage stress and anxiety, so you can perform at your best under pressure.\\n\\nThroughout the course, we will use a variety of teaching methods, including video demonstrations, group discussions, and one-on-one instruction. We will also incorporate elements of modern dance, such as movement, improvisation, and collaboration, to help you develop a unique and personal style.\\n\\nBy the end of this course, you will have gained a strong foundation in modern dance techniques and styles, as well as the tools and techniques to take your own dance journey to the next level. So let's get started!\"}]"
      ]
     },
     "execution_count": 17,
     "metadata": {},
     "output_type": "execute_result"
    }
   ],
   "source": [
    "generator = pipeline(\"text-generation\", model=\"HuggingFaceTB/SmolLM2-360M\")\n",
    "generator(\n",
    "    \"In this course, we will teach you how to\",\n",
    "    max_length=30,\n",
    "    num_return_sequences=2,\n",
    ")"
   ]
  },
  {
   "cell_type": "markdown",
   "id": "ae204b5d",
   "metadata": {},
   "source": [
    "### Preenchimento de máscara"
   ]
  },
  {
   "cell_type": "code",
   "execution_count": 18,
   "id": "3abae939",
   "metadata": {},
   "outputs": [
    {
     "name": "stderr",
     "output_type": "stream",
     "text": [
      "No model was supplied, defaulted to distilbert/distilroberta-base and revision fb53ab8 (https://huggingface.co/distilbert/distilroberta-base).\n",
      "Using a pipeline without specifying a model name and revision in production is not recommended.\n",
      "Some weights of the model checkpoint at distilbert/distilroberta-base were not used when initializing RobertaForMaskedLM: ['roberta.pooler.dense.bias', 'roberta.pooler.dense.weight']\n",
      "- This IS expected if you are initializing RobertaForMaskedLM from the checkpoint of a model trained on another task or with another architecture (e.g. initializing a BertForSequenceClassification model from a BertForPreTraining model).\n",
      "- This IS NOT expected if you are initializing RobertaForMaskedLM from the checkpoint of a model that you expect to be exactly identical (initializing a BertForSequenceClassification model from a BertForSequenceClassification model).\n",
      "Device set to use cpu\n"
     ]
    },
    {
     "data": {
      "text/plain": [
       "[{'score': 0.19619767367839813,\n",
       "  'token': 30412,\n",
       "  'token_str': ' mathematical',\n",
       "  'sequence': 'This course will teach you all about mathematical models.'},\n",
       " {'score': 0.04052715748548508,\n",
       "  'token': 38163,\n",
       "  'token_str': ' computational',\n",
       "  'sequence': 'This course will teach you all about computational models.'}]"
      ]
     },
     "execution_count": 18,
     "metadata": {},
     "output_type": "execute_result"
    }
   ],
   "source": [
    "unmasker = pipeline(\"fill-mask\")\n",
    "unmasker(\"This course will teach you all about <mask> models.\", top_k=2)"
   ]
  },
  {
   "cell_type": "markdown",
   "id": "ad734ea4",
   "metadata": {},
   "source": [
    "### Reconhecimento de entidades nomeada"
   ]
  },
  {
   "cell_type": "code",
   "execution_count": 19,
   "id": "b022a9a4",
   "metadata": {},
   "outputs": [
    {
     "name": "stderr",
     "output_type": "stream",
     "text": [
      "No model was supplied, defaulted to dbmdz/bert-large-cased-finetuned-conll03-english and revision 4c53496 (https://huggingface.co/dbmdz/bert-large-cased-finetuned-conll03-english).\n",
      "Using a pipeline without specifying a model name and revision in production is not recommended.\n",
      "Some weights of the model checkpoint at dbmdz/bert-large-cased-finetuned-conll03-english were not used when initializing BertForTokenClassification: ['bert.pooler.dense.bias', 'bert.pooler.dense.weight']\n",
      "- This IS expected if you are initializing BertForTokenClassification from the checkpoint of a model trained on another task or with another architecture (e.g. initializing a BertForSequenceClassification model from a BertForPreTraining model).\n",
      "- This IS NOT expected if you are initializing BertForTokenClassification from the checkpoint of a model that you expect to be exactly identical (initializing a BertForSequenceClassification model from a BertForSequenceClassification model).\n",
      "Device set to use cpu\n",
      "/home/rapha/.cache/pypoetry/virtualenvs/huggingface-llm-course-zI0DbtNH-py3.12/lib/python3.12/site-packages/transformers/pipelines/token_classification.py:186: UserWarning: `grouped_entities` is deprecated and will be removed in version v5.0.0, defaulted to `aggregation_strategy=\"AggregationStrategy.SIMPLE\"` instead.\n",
      "  warnings.warn(\n"
     ]
    },
    {
     "data": {
      "text/plain": [
       "[{'entity_group': 'PER',\n",
       "  'score': np.float32(0.9981694),\n",
       "  'word': 'Sylvain',\n",
       "  'start': 11,\n",
       "  'end': 18},\n",
       " {'entity_group': 'ORG',\n",
       "  'score': np.float32(0.9796019),\n",
       "  'word': 'Hugging Face',\n",
       "  'start': 33,\n",
       "  'end': 45},\n",
       " {'entity_group': 'LOC',\n",
       "  'score': np.float32(0.9932106),\n",
       "  'word': 'Brooklyn',\n",
       "  'start': 49,\n",
       "  'end': 57}]"
      ]
     },
     "execution_count": 19,
     "metadata": {},
     "output_type": "execute_result"
    }
   ],
   "source": [
    "ner = pipeline(\"ner\", grouped_entities=True)\n",
    "ner(\"My name is Sylvain and I work at Hugging Face in Brooklyn.\")"
   ]
  },
  {
   "cell_type": "markdown",
   "id": "0a872538",
   "metadata": {},
   "source": [
    "### Respostas a Perguntas"
   ]
  },
  {
   "cell_type": "code",
   "execution_count": 20,
   "id": "74025c16",
   "metadata": {},
   "outputs": [
    {
     "name": "stderr",
     "output_type": "stream",
     "text": [
      "No model was supplied, defaulted to distilbert/distilbert-base-cased-distilled-squad and revision 564e9b5 (https://huggingface.co/distilbert/distilbert-base-cased-distilled-squad).\n",
      "Using a pipeline without specifying a model name and revision in production is not recommended.\n",
      "Device set to use cpu\n"
     ]
    },
    {
     "data": {
      "text/plain": [
       "{'score': 0.6949766278266907, 'start': 33, 'end': 45, 'answer': 'Hugging Face'}"
      ]
     },
     "execution_count": 20,
     "metadata": {},
     "output_type": "execute_result"
    }
   ],
   "source": [
    "question_answerer = pipeline(\"question-answering\")\n",
    "question_answerer(\n",
    "    question=\"Where do I work?\",\n",
    "    context=\"My name is Sylvain and I work at Hugging Face in Brooklyn\",\n",
    ")"
   ]
  },
  {
   "cell_type": "markdown",
   "id": "6a0b5cf4",
   "metadata": {},
   "source": [
    "### Resumo de texto"
   ]
  },
  {
   "cell_type": "code",
   "execution_count": 21,
   "id": "57f64085",
   "metadata": {},
   "outputs": [
    {
     "name": "stderr",
     "output_type": "stream",
     "text": [
      "No model was supplied, defaulted to sshleifer/distilbart-cnn-12-6 and revision a4f8f3e (https://huggingface.co/sshleifer/distilbart-cnn-12-6).\n",
      "Using a pipeline without specifying a model name and revision in production is not recommended.\n",
      "Device set to use cpu\n"
     ]
    },
    {
     "data": {
      "text/plain": [
       "[{'summary_text': ' America has changed dramatically during recent years . The number of engineering graduates in the U.S. has declined in traditional engineering disciplines such as mechanical, civil,    electrical, chemical, and aeronautical engineering . Rapidly developing economies such as China and India continue to encourage and advance the teaching of engineering .'}]"
      ]
     },
     "execution_count": 21,
     "metadata": {},
     "output_type": "execute_result"
    }
   ],
   "source": [
    "summarizer = pipeline(\"summarization\")\n",
    "summarizer(\n",
    "    \"\"\"\n",
    "    America has changed dramatically during recent years. Not only has the number of \n",
    "    graduates in traditional engineering disciplines such as mechanical, civil, \n",
    "    electrical, chemical, and aeronautical engineering declined, but in most of \n",
    "    the premier American universities engineering curricula now concentrate on \n",
    "    and encourage largely the study of engineering science. As a result, there \n",
    "    are declining offerings in engineering subjects dealing with infrastructure, \n",
    "    the environment, and related issues, and greater concentration on high \n",
    "    technology subjects, largely supporting increasingly complex scientific \n",
    "    developments. While the latter is important, it should not be at the expense \n",
    "    of more traditional engineering.\n",
    "\n",
    "    Rapidly developing economies such as China and India, as well as other \n",
    "    industrial countries in Europe and Asia, continue to encourage and advance \n",
    "    the teaching of engineering. Both China and India, respectively, graduate \n",
    "    six and eight times as many traditional engineers as does the United States. \n",
    "    Other industrial countries at minimum maintain their output, while America \n",
    "    suffers an increasingly serious decline in the number of engineering graduates \n",
    "    and a lack of well-educated engineers.\n",
    "\"\"\"\n",
    ")"
   ]
  },
  {
   "cell_type": "markdown",
   "id": "7b09764d",
   "metadata": {},
   "source": [
    "### Tradução"
   ]
  },
  {
   "cell_type": "code",
   "execution_count": 22,
   "id": "f26b72a7",
   "metadata": {},
   "outputs": [
    {
     "name": "stderr",
     "output_type": "stream",
     "text": [
      "/home/rapha/.cache/pypoetry/virtualenvs/huggingface-llm-course-zI0DbtNH-py3.12/lib/python3.12/site-packages/transformers/models/marian/tokenization_marian.py:175: UserWarning: Recommended: pip install sacremoses.\n",
      "  warnings.warn(\"Recommended: pip install sacremoses.\")\n",
      "Device set to use cpu\n"
     ]
    },
    {
     "data": {
      "text/plain": [
       "[{'translation_text': 'This course is produced by Hugging Face.'}]"
      ]
     },
     "execution_count": 22,
     "metadata": {},
     "output_type": "execute_result"
    }
   ],
   "source": [
    "translator = pipeline(\"translation\", model=\"Helsinki-NLP/opus-mt-fr-en\")\n",
    "translator(\"Ce cours est produit par Hugging Face.\")"
   ]
  },
  {
   "cell_type": "markdown",
   "id": "d69b9918",
   "metadata": {},
   "source": [
    "### Pipelines de imagem e áudio"
   ]
  },
  {
   "cell_type": "markdown",
   "id": "8e4a238f",
   "metadata": {},
   "source": [
    "#### Classificação de imagem"
   ]
  },
  {
   "cell_type": "code",
   "execution_count": 23,
   "id": "802fbd03",
   "metadata": {},
   "outputs": [
    {
     "name": "stderr",
     "output_type": "stream",
     "text": [
      "Device set to use cpu\n"
     ]
    },
    {
     "name": "stdout",
     "output_type": "stream",
     "text": [
      "[{'label': 'lynx, catamount', 'score': 0.43349990248680115}, {'label': 'cougar, puma, catamount, mountain lion, painter, panther, Felis concolor', 'score': 0.03479622304439545}, {'label': 'snow leopard, ounce, Panthera uncia', 'score': 0.032401926815509796}, {'label': 'Egyptian cat', 'score': 0.023944783955812454}, {'label': 'tiger cat', 'score': 0.02288925088942051}]\n"
     ]
    }
   ],
   "source": [
    "image_classifier = pipeline(\n",
    "    task=\"image-classification\", model=\"google/vit-base-patch16-224\"\n",
    ")\n",
    "result = image_classifier(\n",
    "    \"https://huggingface.co/datasets/huggingface/documentation-images/resolve/main/pipeline-cat-chonk.jpeg\"\n",
    ")\n",
    "print(result)"
   ]
  },
  {
   "cell_type": "markdown",
   "id": "c5eb1e69",
   "metadata": {},
   "source": [
    "#### Reconhecimento Automático de Fala"
   ]
  },
  {
   "cell_type": "code",
   "execution_count": 24,
   "id": "26105009",
   "metadata": {},
   "outputs": [
    {
     "name": "stderr",
     "output_type": "stream",
     "text": [
      "Device set to use cpu\n"
     ]
    },
    {
     "name": "stdout",
     "output_type": "stream",
     "text": [
      "{'text': ' I have a dream that one day this nation will rise up and live out the true meaning of its creed.'}\n"
     ]
    }
   ],
   "source": [
    "transcriber = pipeline(\n",
    "    task=\"automatic-speech-recognition\", model=\"openai/whisper-large-v3\"\n",
    ")\n",
    "result = transcriber(\n",
    "    \"https://huggingface.co/datasets/Narsil/asr_dummy/resolve/main/mlk.flac\"\n",
    ")\n",
    "print(result)"
   ]
  },
  {
   "cell_type": "markdown",
   "id": "00e5bd1d",
   "metadata": {},
   "source": [
    "### Combinando dados de múltiplas fontes\n",
    "\n",
    "Uma aplicação robusta com Transformer é poder combinar e processar dados de fontes diferentes. Isso é especialmente útil quando você precisa:\n",
    "\n",
    "1. Procurar entre múltiplas bases de dados ou repositórios\n",
    "2. Consolidar informação de diferentes formatos (texto, imagem e áudio)\n",
    "3. Criar uma visualização/unificação única das informações relacionadas\n",
    "\n",
    "Por exemplo, você pode criar um sistema que:\n",
    "\n",
    "- Procurar por informações entre bases de dados em múltiplas modalidades como texto e imagens\n",
    "- Combinar resultados de diferentes fontes em uma única resposta. Por exemplo, de um arquivo de áudio e de um texto\n",
    "- Apresentar as informações mais relevantes a partir de uma base de documentos e metadados"
   ]
  }
 ],
 "metadata": {
  "kernelspec": {
   "display_name": "huggingface-llm-course-zI0DbtNH-py3.12",
   "language": "python",
   "name": "python3"
  },
  "language_info": {
   "codemirror_mode": {
    "name": "ipython",
    "version": 3
   },
   "file_extension": ".py",
   "mimetype": "text/x-python",
   "name": "python",
   "nbconvert_exporter": "python",
   "pygments_lexer": "ipython3",
   "version": "3.12.3"
  }
 },
 "nbformat": 4,
 "nbformat_minor": 5
}
